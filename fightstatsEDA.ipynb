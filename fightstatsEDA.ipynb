{
 "cells": [
  {
   "cell_type": "code",
   "execution_count": 1,
   "id": "33e80dfc",
   "metadata": {},
   "outputs": [],
   "source": [
    "import pandas as pd\n",
    "import numpy as np\n",
    "\n",
    "import matplotlib.pyplot as plt\n",
    "import seaborn as sns\n",
    "\n",
    "import statsmodels.api as sm\n",
    "from scipy import stats"
   ]
  },
  {
   "cell_type": "code",
   "execution_count": 2,
   "id": "2090a31b",
   "metadata": {},
   "outputs": [
    {
     "data": {
      "text/html": [
       "<div>\n",
       "<style scoped>\n",
       "    .dataframe tbody tr th:only-of-type {\n",
       "        vertical-align: middle;\n",
       "    }\n",
       "\n",
       "    .dataframe tbody tr th {\n",
       "        vertical-align: top;\n",
       "    }\n",
       "\n",
       "    .dataframe thead th {\n",
       "        text-align: right;\n",
       "    }\n",
       "</style>\n",
       "<table border=\"1\" class=\"dataframe\">\n",
       "  <thead>\n",
       "    <tr style=\"text-align: right;\">\n",
       "      <th></th>\n",
       "      <th>R_fighter</th>\n",
       "      <th>B_fighter</th>\n",
       "      <th>Referee</th>\n",
       "      <th>date</th>\n",
       "      <th>location</th>\n",
       "      <th>Winner</th>\n",
       "      <th>title_bout</th>\n",
       "      <th>weight_class</th>\n",
       "      <th>B_avg_KD</th>\n",
       "      <th>B_avg_opp_KD</th>\n",
       "      <th>...</th>\n",
       "      <th>R_win_by_Decision_Unanimous</th>\n",
       "      <th>R_win_by_KO/TKO</th>\n",
       "      <th>R_win_by_Submission</th>\n",
       "      <th>R_win_by_TKO_Doctor_Stoppage</th>\n",
       "      <th>R_Stance</th>\n",
       "      <th>R_Height_cms</th>\n",
       "      <th>R_Reach_cms</th>\n",
       "      <th>R_Weight_lbs</th>\n",
       "      <th>B_age</th>\n",
       "      <th>R_age</th>\n",
       "    </tr>\n",
       "  </thead>\n",
       "  <tbody>\n",
       "    <tr>\n",
       "      <th>0</th>\n",
       "      <td>Cheyanne Buys</td>\n",
       "      <td>Montserrat Conejo</td>\n",
       "      <td>Mark Smith</td>\n",
       "      <td>2021-03-20</td>\n",
       "      <td>Las Vegas, Nevada, USA</td>\n",
       "      <td>Blue</td>\n",
       "      <td>False</td>\n",
       "      <td>WomenStrawweight</td>\n",
       "      <td>NaN</td>\n",
       "      <td>NaN</td>\n",
       "      <td>...</td>\n",
       "      <td>0</td>\n",
       "      <td>0</td>\n",
       "      <td>0</td>\n",
       "      <td>0</td>\n",
       "      <td>Switch</td>\n",
       "      <td>160.02</td>\n",
       "      <td>160.02</td>\n",
       "      <td>115.0</td>\n",
       "      <td>28.0</td>\n",
       "      <td>25.0</td>\n",
       "    </tr>\n",
       "    <tr>\n",
       "      <th>1</th>\n",
       "      <td>Angela Hill</td>\n",
       "      <td>Ashley Yoder</td>\n",
       "      <td>Mike Beltran</td>\n",
       "      <td>2021-03-13</td>\n",
       "      <td>Las Vegas, Nevada, USA</td>\n",
       "      <td>Red</td>\n",
       "      <td>False</td>\n",
       "      <td>WomenStrawweight</td>\n",
       "      <td>0.015625</td>\n",
       "      <td>0.0</td>\n",
       "      <td>...</td>\n",
       "      <td>5</td>\n",
       "      <td>1</td>\n",
       "      <td>0</td>\n",
       "      <td>1</td>\n",
       "      <td>Orthodox</td>\n",
       "      <td>160.02</td>\n",
       "      <td>162.56</td>\n",
       "      <td>115.0</td>\n",
       "      <td>33.0</td>\n",
       "      <td>36.0</td>\n",
       "    </tr>\n",
       "    <tr>\n",
       "      <th>2</th>\n",
       "      <td>Gloria de Paula</td>\n",
       "      <td>Jinh Yu Frey</td>\n",
       "      <td>Mike Beltran</td>\n",
       "      <td>2021-03-13</td>\n",
       "      <td>Las Vegas, Nevada, USA</td>\n",
       "      <td>Blue</td>\n",
       "      <td>False</td>\n",
       "      <td>WomenStrawweight</td>\n",
       "      <td>0.000000</td>\n",
       "      <td>0.0</td>\n",
       "      <td>...</td>\n",
       "      <td>0</td>\n",
       "      <td>0</td>\n",
       "      <td>0</td>\n",
       "      <td>0</td>\n",
       "      <td>Orthodox</td>\n",
       "      <td>165.10</td>\n",
       "      <td>170.18</td>\n",
       "      <td>115.0</td>\n",
       "      <td>35.0</td>\n",
       "      <td>25.0</td>\n",
       "    </tr>\n",
       "    <tr>\n",
       "      <th>3</th>\n",
       "      <td>Livinha Souza</td>\n",
       "      <td>Amanda Lemos</td>\n",
       "      <td>Jason Herzog</td>\n",
       "      <td>2021-03-06</td>\n",
       "      <td>Las Vegas, Nevada, USA</td>\n",
       "      <td>Blue</td>\n",
       "      <td>False</td>\n",
       "      <td>WomenStrawweight</td>\n",
       "      <td>0.500000</td>\n",
       "      <td>0.0</td>\n",
       "      <td>...</td>\n",
       "      <td>1</td>\n",
       "      <td>0</td>\n",
       "      <td>1</td>\n",
       "      <td>0</td>\n",
       "      <td>Orthodox</td>\n",
       "      <td>160.02</td>\n",
       "      <td>160.02</td>\n",
       "      <td>115.0</td>\n",
       "      <td>33.0</td>\n",
       "      <td>29.0</td>\n",
       "    </tr>\n",
       "    <tr>\n",
       "      <th>4</th>\n",
       "      <td>Polyana Viana</td>\n",
       "      <td>Mallory Martin</td>\n",
       "      <td>Mark Smith</td>\n",
       "      <td>2021-02-13</td>\n",
       "      <td>Las Vegas, Nevada, USA</td>\n",
       "      <td>Red</td>\n",
       "      <td>False</td>\n",
       "      <td>WomenStrawweight</td>\n",
       "      <td>0.000000</td>\n",
       "      <td>0.5</td>\n",
       "      <td>...</td>\n",
       "      <td>0</td>\n",
       "      <td>0</td>\n",
       "      <td>2</td>\n",
       "      <td>0</td>\n",
       "      <td>Orthodox</td>\n",
       "      <td>165.10</td>\n",
       "      <td>170.18</td>\n",
       "      <td>115.0</td>\n",
       "      <td>27.0</td>\n",
       "      <td>28.0</td>\n",
       "    </tr>\n",
       "    <tr>\n",
       "      <th>...</th>\n",
       "      <td>...</td>\n",
       "      <td>...</td>\n",
       "      <td>...</td>\n",
       "      <td>...</td>\n",
       "      <td>...</td>\n",
       "      <td>...</td>\n",
       "      <td>...</td>\n",
       "      <td>...</td>\n",
       "      <td>...</td>\n",
       "      <td>...</td>\n",
       "      <td>...</td>\n",
       "      <td>...</td>\n",
       "      <td>...</td>\n",
       "      <td>...</td>\n",
       "      <td>...</td>\n",
       "      <td>...</td>\n",
       "      <td>...</td>\n",
       "      <td>...</td>\n",
       "      <td>...</td>\n",
       "      <td>...</td>\n",
       "      <td>...</td>\n",
       "    </tr>\n",
       "    <tr>\n",
       "      <th>466</th>\n",
       "      <td>Holly Holm</td>\n",
       "      <td>Megan Anderson</td>\n",
       "      <td>Kevin MacDonald</td>\n",
       "      <td>2018-06-09</td>\n",
       "      <td>Chicago, Illinois, USA</td>\n",
       "      <td>Red</td>\n",
       "      <td>False</td>\n",
       "      <td>WomenFeatherweight</td>\n",
       "      <td>NaN</td>\n",
       "      <td>NaN</td>\n",
       "      <td>...</td>\n",
       "      <td>1</td>\n",
       "      <td>2</td>\n",
       "      <td>0</td>\n",
       "      <td>0</td>\n",
       "      <td>Southpaw</td>\n",
       "      <td>172.72</td>\n",
       "      <td>175.26</td>\n",
       "      <td>135.0</td>\n",
       "      <td>28.0</td>\n",
       "      <td>36.0</td>\n",
       "    </tr>\n",
       "    <tr>\n",
       "      <th>467</th>\n",
       "      <td>Cristiane Justino</td>\n",
       "      <td>Yana Kunitskaya</td>\n",
       "      <td>Herb Dean</td>\n",
       "      <td>2018-03-03</td>\n",
       "      <td>Las Vegas, Nevada, USA</td>\n",
       "      <td>Red</td>\n",
       "      <td>True</td>\n",
       "      <td>WomenFeatherweight</td>\n",
       "      <td>NaN</td>\n",
       "      <td>NaN</td>\n",
       "      <td>...</td>\n",
       "      <td>1</td>\n",
       "      <td>3</td>\n",
       "      <td>0</td>\n",
       "      <td>0</td>\n",
       "      <td>Orthodox</td>\n",
       "      <td>172.72</td>\n",
       "      <td>172.72</td>\n",
       "      <td>145.0</td>\n",
       "      <td>28.0</td>\n",
       "      <td>32.0</td>\n",
       "    </tr>\n",
       "    <tr>\n",
       "      <th>468</th>\n",
       "      <td>Cristiane Justino</td>\n",
       "      <td>Holly Holm</td>\n",
       "      <td>Herb Dean</td>\n",
       "      <td>2017-12-30</td>\n",
       "      <td>Las Vegas, Nevada, USA</td>\n",
       "      <td>Red</td>\n",
       "      <td>True</td>\n",
       "      <td>WomenFeatherweight</td>\n",
       "      <td>0.531250</td>\n",
       "      <td>0.0</td>\n",
       "      <td>...</td>\n",
       "      <td>0</td>\n",
       "      <td>3</td>\n",
       "      <td>0</td>\n",
       "      <td>0</td>\n",
       "      <td>Orthodox</td>\n",
       "      <td>172.72</td>\n",
       "      <td>172.72</td>\n",
       "      <td>145.0</td>\n",
       "      <td>36.0</td>\n",
       "      <td>32.0</td>\n",
       "    </tr>\n",
       "    <tr>\n",
       "      <th>469</th>\n",
       "      <td>Cristiane Justino</td>\n",
       "      <td>Tonya Evinger</td>\n",
       "      <td>Mike Beltran</td>\n",
       "      <td>2017-07-29</td>\n",
       "      <td>Anaheim, California, USA</td>\n",
       "      <td>Red</td>\n",
       "      <td>True</td>\n",
       "      <td>WomenFeatherweight</td>\n",
       "      <td>NaN</td>\n",
       "      <td>NaN</td>\n",
       "      <td>...</td>\n",
       "      <td>0</td>\n",
       "      <td>2</td>\n",
       "      <td>0</td>\n",
       "      <td>0</td>\n",
       "      <td>Orthodox</td>\n",
       "      <td>172.72</td>\n",
       "      <td>172.72</td>\n",
       "      <td>145.0</td>\n",
       "      <td>36.0</td>\n",
       "      <td>32.0</td>\n",
       "    </tr>\n",
       "    <tr>\n",
       "      <th>470</th>\n",
       "      <td>Holly Holm</td>\n",
       "      <td>Germaine de Randamie</td>\n",
       "      <td>Todd Ronald Anderson</td>\n",
       "      <td>2017-02-11</td>\n",
       "      <td>Brooklyn, New York, USA</td>\n",
       "      <td>Blue</td>\n",
       "      <td>True</td>\n",
       "      <td>WomenFeatherweight</td>\n",
       "      <td>0.500000</td>\n",
       "      <td>0.0</td>\n",
       "      <td>...</td>\n",
       "      <td>1</td>\n",
       "      <td>1</td>\n",
       "      <td>0</td>\n",
       "      <td>0</td>\n",
       "      <td>Southpaw</td>\n",
       "      <td>172.72</td>\n",
       "      <td>175.26</td>\n",
       "      <td>135.0</td>\n",
       "      <td>32.0</td>\n",
       "      <td>35.0</td>\n",
       "    </tr>\n",
       "  </tbody>\n",
       "</table>\n",
       "<p>471 rows × 144 columns</p>\n",
       "</div>"
      ],
      "text/plain": [
       "             R_fighter             B_fighter               Referee  \\\n",
       "0        Cheyanne Buys     Montserrat Conejo            Mark Smith   \n",
       "1          Angela Hill          Ashley Yoder          Mike Beltran   \n",
       "2      Gloria de Paula          Jinh Yu Frey          Mike Beltran   \n",
       "3        Livinha Souza          Amanda Lemos          Jason Herzog   \n",
       "4        Polyana Viana        Mallory Martin            Mark Smith   \n",
       "..                 ...                   ...                   ...   \n",
       "466         Holly Holm        Megan Anderson       Kevin MacDonald   \n",
       "467  Cristiane Justino       Yana Kunitskaya             Herb Dean   \n",
       "468  Cristiane Justino            Holly Holm             Herb Dean   \n",
       "469  Cristiane Justino         Tonya Evinger          Mike Beltran   \n",
       "470         Holly Holm  Germaine de Randamie  Todd Ronald Anderson   \n",
       "\n",
       "           date                  location Winner  title_bout  \\\n",
       "0    2021-03-20    Las Vegas, Nevada, USA   Blue       False   \n",
       "1    2021-03-13    Las Vegas, Nevada, USA    Red       False   \n",
       "2    2021-03-13    Las Vegas, Nevada, USA   Blue       False   \n",
       "3    2021-03-06    Las Vegas, Nevada, USA   Blue       False   \n",
       "4    2021-02-13    Las Vegas, Nevada, USA    Red       False   \n",
       "..          ...                       ...    ...         ...   \n",
       "466  2018-06-09    Chicago, Illinois, USA    Red       False   \n",
       "467  2018-03-03    Las Vegas, Nevada, USA    Red        True   \n",
       "468  2017-12-30    Las Vegas, Nevada, USA    Red        True   \n",
       "469  2017-07-29  Anaheim, California, USA    Red        True   \n",
       "470  2017-02-11   Brooklyn, New York, USA   Blue        True   \n",
       "\n",
       "           weight_class  B_avg_KD  B_avg_opp_KD  ...  \\\n",
       "0      WomenStrawweight       NaN           NaN  ...   \n",
       "1      WomenStrawweight  0.015625           0.0  ...   \n",
       "2      WomenStrawweight  0.000000           0.0  ...   \n",
       "3      WomenStrawweight  0.500000           0.0  ...   \n",
       "4      WomenStrawweight  0.000000           0.5  ...   \n",
       "..                  ...       ...           ...  ...   \n",
       "466  WomenFeatherweight       NaN           NaN  ...   \n",
       "467  WomenFeatherweight       NaN           NaN  ...   \n",
       "468  WomenFeatherweight  0.531250           0.0  ...   \n",
       "469  WomenFeatherweight       NaN           NaN  ...   \n",
       "470  WomenFeatherweight  0.500000           0.0  ...   \n",
       "\n",
       "     R_win_by_Decision_Unanimous  R_win_by_KO/TKO  R_win_by_Submission  \\\n",
       "0                              0                0                    0   \n",
       "1                              5                1                    0   \n",
       "2                              0                0                    0   \n",
       "3                              1                0                    1   \n",
       "4                              0                0                    2   \n",
       "..                           ...              ...                  ...   \n",
       "466                            1                2                    0   \n",
       "467                            1                3                    0   \n",
       "468                            0                3                    0   \n",
       "469                            0                2                    0   \n",
       "470                            1                1                    0   \n",
       "\n",
       "     R_win_by_TKO_Doctor_Stoppage  R_Stance  R_Height_cms  R_Reach_cms  \\\n",
       "0                               0    Switch        160.02       160.02   \n",
       "1                               1  Orthodox        160.02       162.56   \n",
       "2                               0  Orthodox        165.10       170.18   \n",
       "3                               0  Orthodox        160.02       160.02   \n",
       "4                               0  Orthodox        165.10       170.18   \n",
       "..                            ...       ...           ...          ...   \n",
       "466                             0  Southpaw        172.72       175.26   \n",
       "467                             0  Orthodox        172.72       172.72   \n",
       "468                             0  Orthodox        172.72       172.72   \n",
       "469                             0  Orthodox        172.72       172.72   \n",
       "470                             0  Southpaw        172.72       175.26   \n",
       "\n",
       "     R_Weight_lbs  B_age  R_age  \n",
       "0           115.0   28.0   25.0  \n",
       "1           115.0   33.0   36.0  \n",
       "2           115.0   35.0   25.0  \n",
       "3           115.0   33.0   29.0  \n",
       "4           115.0   27.0   28.0  \n",
       "..            ...    ...    ...  \n",
       "466         135.0   28.0   36.0  \n",
       "467         145.0   28.0   32.0  \n",
       "468         145.0   36.0   32.0  \n",
       "469         145.0   36.0   32.0  \n",
       "470         135.0   32.0   35.0  \n",
       "\n",
       "[471 rows x 144 columns]"
      ]
     },
     "execution_count": 2,
     "metadata": {},
     "output_type": "execute_result"
    }
   ],
   "source": [
    "fight_stats = pd.read_csv('fight_stats.csv', sep=';')\n",
    "fight_stats"
   ]
  },
  {
   "cell_type": "code",
   "execution_count": 3,
   "id": "462f2517",
   "metadata": {},
   "outputs": [
    {
     "data": {
      "text/plain": [
       "['R_fighter',\n",
       " 'B_fighter',\n",
       " 'Referee',\n",
       " 'date',\n",
       " 'location',\n",
       " 'Winner',\n",
       " 'title_bout',\n",
       " 'weight_class',\n",
       " 'B_avg_KD',\n",
       " 'B_avg_opp_KD',\n",
       " 'B_avg_SIG_STR_pct',\n",
       " 'B_avg_opp_SIG_STR_pct',\n",
       " 'B_avg_TD_pct',\n",
       " 'B_avg_opp_TD_pct',\n",
       " 'B_avg_SUB_ATT',\n",
       " 'B_avg_opp_SUB_ATT',\n",
       " 'B_avg_REV',\n",
       " 'B_avg_opp_REV',\n",
       " 'B_avg_SIG_STR_att',\n",
       " 'B_avg_SIG_STR_landed',\n",
       " 'B_avg_opp_SIG_STR_att',\n",
       " 'B_avg_opp_SIG_STR_landed',\n",
       " 'B_avg_TOTAL_STR_att',\n",
       " 'B_avg_TOTAL_STR_landed',\n",
       " 'B_avg_opp_TOTAL_STR_att',\n",
       " 'B_avg_opp_TOTAL_STR_landed',\n",
       " 'B_avg_TD_att',\n",
       " 'B_avg_TD_landed',\n",
       " 'B_avg_opp_TD_att',\n",
       " 'B_avg_opp_TD_landed',\n",
       " 'B_avg_HEAD_att',\n",
       " 'B_avg_HEAD_landed',\n",
       " 'B_avg_opp_HEAD_att',\n",
       " 'B_avg_opp_HEAD_landed',\n",
       " 'B_avg_BODY_att',\n",
       " 'B_avg_BODY_landed',\n",
       " 'B_avg_opp_BODY_att',\n",
       " 'B_avg_opp_BODY_landed',\n",
       " 'B_avg_LEG_att',\n",
       " 'B_avg_LEG_landed',\n",
       " 'B_avg_opp_LEG_att',\n",
       " 'B_avg_opp_LEG_landed',\n",
       " 'B_avg_DISTANCE_att',\n",
       " 'B_avg_DISTANCE_landed',\n",
       " 'B_avg_opp_DISTANCE_att',\n",
       " 'B_avg_opp_DISTANCE_landed',\n",
       " 'B_avg_CLINCH_att',\n",
       " 'B_avg_CLINCH_landed',\n",
       " 'B_avg_opp_CLINCH_att',\n",
       " 'B_avg_opp_CLINCH_landed',\n",
       " 'B_avg_GROUND_att',\n",
       " 'B_avg_GROUND_landed',\n",
       " 'B_avg_opp_GROUND_att',\n",
       " 'B_avg_opp_GROUND_landed',\n",
       " 'B_avg_CTRL_time(seconds)',\n",
       " 'B_avg_opp_CTRL_time(seconds)',\n",
       " 'B_total_time_fought(seconds)',\n",
       " 'B_total_rounds_fought',\n",
       " 'B_total_title_bouts',\n",
       " 'B_current_win_streak',\n",
       " 'B_current_lose_streak',\n",
       " 'B_longest_win_streak',\n",
       " 'B_wins',\n",
       " 'B_losses',\n",
       " 'B_draw',\n",
       " 'B_win_by_Decision_Majority',\n",
       " 'B_win_by_Decision_Split',\n",
       " 'B_win_by_Decision_Unanimous',\n",
       " 'B_win_by_KO/TKO',\n",
       " 'B_win_by_Submission',\n",
       " 'B_win_by_TKO_Doctor_Stoppage',\n",
       " 'B_Stance',\n",
       " 'B_Height_cms',\n",
       " 'B_Reach_cms',\n",
       " 'B_Weight_lbs',\n",
       " 'R_avg_KD',\n",
       " 'R_avg_opp_KD',\n",
       " 'R_avg_SIG_STR_pct',\n",
       " 'R_avg_opp_SIG_STR_pct',\n",
       " 'R_avg_TD_pct',\n",
       " 'R_avg_opp_TD_pct',\n",
       " 'R_avg_SUB_ATT',\n",
       " 'R_avg_opp_SUB_ATT',\n",
       " 'R_avg_REV',\n",
       " 'R_avg_opp_REV',\n",
       " 'R_avg_SIG_STR_att',\n",
       " 'R_avg_SIG_STR_landed',\n",
       " 'R_avg_opp_SIG_STR_att',\n",
       " 'R_avg_opp_SIG_STR_landed',\n",
       " 'R_avg_TOTAL_STR_att',\n",
       " 'R_avg_TOTAL_STR_landed',\n",
       " 'R_avg_opp_TOTAL_STR_att',\n",
       " 'R_avg_opp_TOTAL_STR_landed',\n",
       " 'R_avg_TD_att',\n",
       " 'R_avg_TD_landed',\n",
       " 'R_avg_opp_TD_att',\n",
       " 'R_avg_opp_TD_landed',\n",
       " 'R_avg_HEAD_att',\n",
       " 'R_avg_HEAD_landed',\n",
       " 'R_avg_opp_HEAD_att',\n",
       " 'R_avg_opp_HEAD_landed',\n",
       " 'R_avg_BODY_att',\n",
       " 'R_avg_BODY_landed',\n",
       " 'R_avg_opp_BODY_att',\n",
       " 'R_avg_opp_BODY_landed',\n",
       " 'R_avg_LEG_att',\n",
       " 'R_avg_LEG_landed',\n",
       " 'R_avg_opp_LEG_att',\n",
       " 'R_avg_opp_LEG_landed',\n",
       " 'R_avg_DISTANCE_att',\n",
       " 'R_avg_DISTANCE_landed',\n",
       " 'R_avg_opp_DISTANCE_att',\n",
       " 'R_avg_opp_DISTANCE_landed',\n",
       " 'R_avg_CLINCH_att',\n",
       " 'R_avg_CLINCH_landed',\n",
       " 'R_avg_opp_CLINCH_att',\n",
       " 'R_avg_opp_CLINCH_landed',\n",
       " 'R_avg_GROUND_att',\n",
       " 'R_avg_GROUND_landed',\n",
       " 'R_avg_opp_GROUND_att',\n",
       " 'R_avg_opp_GROUND_landed',\n",
       " 'R_avg_CTRL_time(seconds)',\n",
       " 'R_avg_opp_CTRL_time(seconds)',\n",
       " 'R_total_time_fought(seconds)',\n",
       " 'R_total_rounds_fought',\n",
       " 'R_total_title_bouts',\n",
       " 'R_current_win_streak',\n",
       " 'R_current_lose_streak',\n",
       " 'R_longest_win_streak',\n",
       " 'R_wins',\n",
       " 'R_losses',\n",
       " 'R_draw',\n",
       " 'R_win_by_Decision_Majority',\n",
       " 'R_win_by_Decision_Split',\n",
       " 'R_win_by_Decision_Unanimous',\n",
       " 'R_win_by_KO/TKO',\n",
       " 'R_win_by_Submission',\n",
       " 'R_win_by_TKO_Doctor_Stoppage',\n",
       " 'R_Stance',\n",
       " 'R_Height_cms',\n",
       " 'R_Reach_cms',\n",
       " 'R_Weight_lbs',\n",
       " 'B_age',\n",
       " 'R_age']"
      ]
     },
     "execution_count": 3,
     "metadata": {},
     "output_type": "execute_result"
    }
   ],
   "source": [
    "list(fight_stats.columns)"
   ]
  },
  {
   "cell_type": "markdown",
   "id": "aa5e0042",
   "metadata": {},
   "source": [
    "Just for my own curiosity, I want to find out:\n",
    "- the time period for this dataset\n",
    "- which fighters are fighting the most (on both sides)"
   ]
  },
  {
   "cell_type": "code",
   "execution_count": 4,
   "id": "7c543588",
   "metadata": {},
   "outputs": [
    {
     "data": {
      "text/plain": [
       "'2013-02-23'"
      ]
     },
     "execution_count": 4,
     "metadata": {},
     "output_type": "execute_result"
    }
   ],
   "source": [
    "fight_stats['date'].min()"
   ]
  },
  {
   "cell_type": "code",
   "execution_count": 5,
   "id": "eb725220",
   "metadata": {},
   "outputs": [
    {
     "data": {
      "text/plain": [
       "'2021-03-20'"
      ]
     },
     "execution_count": 5,
     "metadata": {},
     "output_type": "execute_result"
    }
   ],
   "source": [
    "fight_stats['date'].max()"
   ]
  },
  {
   "cell_type": "code",
   "execution_count": 6,
   "id": "1ee0f06a",
   "metadata": {},
   "outputs": [
    {
     "data": {
      "text/plain": [
       "Amanda Nunes          11\n",
       "Randa Markos          11\n",
       "Claudia Gadelha       11\n",
       "Carla Esparza         10\n",
       "Tecia Torres          10\n",
       "                      ..\n",
       "Bea Malecki            1\n",
       "Kelly Faszholz         1\n",
       "Larissa Pacheco        1\n",
       "Alexis Dufresne        1\n",
       "Julija Stoliarenko     1\n",
       "Name: R_fighter, Length: 143, dtype: int64"
      ]
     },
     "execution_count": 6,
     "metadata": {},
     "output_type": "execute_result"
    }
   ],
   "source": [
    "fight_stats['R_fighter'].value_counts()"
   ]
  },
  {
   "cell_type": "code",
   "execution_count": 7,
   "id": "f4bc6135",
   "metadata": {},
   "outputs": [
    {
     "data": {
      "text/plain": [
       "Angela Hill        13\n",
       "Jessica Eye         8\n",
       "Jessica Andrade     8\n",
       "Lucie Pudilova      7\n",
       "Bethe Correia       7\n",
       "                   ..\n",
       "Sarah Kaufman       1\n",
       "Larissa Pacheco     1\n",
       "Jessica Rakoczy     1\n",
       "Peggy Morgan        1\n",
       "Leah Letson         1\n",
       "Name: B_fighter, Length: 165, dtype: int64"
      ]
     },
     "execution_count": 7,
     "metadata": {},
     "output_type": "execute_result"
    }
   ],
   "source": [
    "fight_stats['B_fighter'].value_counts()"
   ]
  },
  {
   "cell_type": "markdown",
   "id": "f60fb409",
   "metadata": {},
   "source": [
    "Fighters are divided into either the red corner or the blue corner. In general, the red corner is assigned to fighters that are more notable (more favoured to win). Let's see if that's true for this dataset. "
   ]
  },
  {
   "cell_type": "code",
   "execution_count": 8,
   "id": "58bcd71e",
   "metadata": {},
   "outputs": [
    {
     "data": {
      "text/plain": [
       "array(['Blue', 'Red', 'Draw'], dtype=object)"
      ]
     },
     "execution_count": 8,
     "metadata": {},
     "output_type": "execute_result"
    }
   ],
   "source": [
    "fight_stats['Winner'].unique()"
   ]
  },
  {
   "cell_type": "code",
   "execution_count": 9,
   "id": "0cb318c1",
   "metadata": {},
   "outputs": [
    {
     "data": {
      "text/plain": [
       "Red     279\n",
       "Blue    186\n",
       "Draw      6\n",
       "Name: Winner, dtype: int64"
      ]
     },
     "execution_count": 9,
     "metadata": {},
     "output_type": "execute_result"
    }
   ],
   "source": [
    "fight_stats['Winner'].value_counts()"
   ]
  },
  {
   "cell_type": "code",
   "execution_count": 10,
   "id": "b3fb578a",
   "metadata": {},
   "outputs": [
    {
     "data": {
      "text/plain": [
       "<Axes: xlabel='Winner', ylabel='count'>"
      ]
     },
     "execution_count": 10,
     "metadata": {},
     "output_type": "execute_result"
    },
    {
     "data": {
      "image/png": "[encoded data removed]",
      "text/plain": [
       "<Figure size 640x480 with 1 Axes>"
      ]
     },
     "metadata": {},
     "output_type": "display_data"
    }
   ],
   "source": [
    "sns.countplot(x=fight_stats['Winner'], data=fight_stats)"
   ]
  },
  {
   "cell_type": "markdown",
   "id": "34fa4c8d",
   "metadata": {},
   "source": [
    "Let's investigate the correlations between all the variables. "
   ]
  },
  {
   "cell_type": "code",
   "execution_count": 11,
   "id": "832c889f",
   "metadata": {},
   "outputs": [
    {
     "name": "stdout",
     "output_type": "stream",
     "text": [
      "B_avg_opp_SIG_STR_att   B_avg_opp_DISTANCE_att    0.977256\n",
      "B_avg_LEG_landed        B_avg_LEG_att             0.976970\n",
      "B_avg_DISTANCE_att      B_avg_SIG_STR_att         0.975740\n",
      "B_avg_HEAD_att          B_avg_SIG_STR_att         0.975271\n",
      "R_avg_opp_LEG_att       R_avg_opp_LEG_landed      0.974914\n",
      "R_avg_SIG_STR_att       R_avg_DISTANCE_att        0.974798\n",
      "R_avg_opp_SIG_STR_att   R_avg_opp_HEAD_att        0.974727\n",
      "R_avg_opp_DISTANCE_att  R_avg_opp_SIG_STR_att     0.974159\n",
      "B_avg_GROUND_att        B_avg_GROUND_landed       0.969491\n",
      "B_avg_CLINCH_landed     B_avg_CLINCH_att          0.968644\n",
      "dtype: float64\n"
     ]
    },
    {
     "name": "stderr",
     "output_type": "stream",
     "text": [
      "/var/folders/mg/9c8_3q293sgg37fxt_551_tm0000gn/T/ipykernel_4120/2990098215.py:2: FutureWarning: The default value of numeric_only in DataFrame.corr is deprecated. In a future version, it will default to False. Select only valid columns or specify the value of numeric_only to silence this warning.\n",
      "  corr_matrix = fight_stats.corr().abs()\n"
     ]
    }
   ],
   "source": [
    "# Calculate correlation matrix for all variables in raw dataset\n",
    "corr_matrix = fight_stats.corr().abs()\n",
    "\n",
    "# Unpack matrix and convert to list of pairs of variables that can be sorted and iterated over\n",
    "correlations = corr_matrix.stack().sort_values(ascending=False)\n",
    "correlations = correlations.iloc[fight_stats.shape[1]-1::2]\n",
    "\n",
    "# Print the ten largest correlations\n",
    "print(correlations.head(10))"
   ]
  },
  {
   "cell_type": "markdown",
   "id": "86a83e04",
   "metadata": {},
   "source": [
    "The correlation tables seem to show very strong relationships amongst the variables. "
   ]
  },
  {
   "cell_type": "markdown",
   "id": "8abca584",
   "metadata": {},
   "source": [
    "This dataset provides an extensive amount of information for each of these fights and there are a lot of acronyms that I'm unfamiliar with. To understand and learn from this experience, I'm using an amazing data analysis example from Rohan Kasuganti and Savya Konkalmatt as a guide.  \n",
    "https://skonkalmatt.github.io/UFC_Data_Analysis/\n",
    "\n",
    "They are using the same dataset that includes both male and female fighters but for my own project, I'm only interested in female fighters. I will also be splitting the female fighters into weight classes for a simplified analysis on fighting components. We will be investigating 3 different fighting components: striking, grappling and defense. This is a very simplified version because we are only looking at one variable for each fighting component. Please keep in mind there are other variables that plays into these components, which we will dive deeper in the next part. \n",
    "\n",
    "Since we know that red is the stronger corner, let's see if the numbers match. "
   ]
  },
  {
   "cell_type": "code",
   "execution_count": 12,
   "id": "bc8d3bf5",
   "metadata": {},
   "outputs": [],
   "source": [
    "feather = fight_stats[fight_stats['weight_class'] == 'WomenFeatherweight']\n",
    "bantam = fight_stats[fight_stats['weight_class'] == 'WomenBantamweight']\n",
    "fly = fight_stats[fight_stats['weight_class'] == 'WomenFlyweight']\n",
    "straw = fight_stats[fight_stats['weight_class'] == 'WomenStrawweight']"
   ]
  },
  {
   "cell_type": "markdown",
   "id": "6ada5e7c",
   "metadata": {},
   "source": [
    "## STRIKING PORTION"
   ]
  },
  {
   "cell_type": "code",
   "execution_count": 13,
   "id": "f7eaff53",
   "metadata": {},
   "outputs": [
    {
     "name": "stdout",
     "output_type": "stream",
     "text": [
      "             R_fighter  R_avg_HEAD_landed\n",
      "455       Amanda Nunes          65.392212\n",
      "467  Cristiane Justino          53.250000\n",
      "470         Holly Holm          25.125000\n",
      "463        Cat Zingano          17.687500\n",
      "457    Felicia Spencer          17.000000\n",
      "                B_fighter  B_avg_HEAD_landed\n",
      "462          Amanda Nunes          46.275391\n",
      "456       Felicia Spencer          27.500000\n",
      "468            Holly Holm          15.781250\n",
      "463        Megan Anderson          15.000000\n",
      "470  Germaine de Randamie          12.125000\n"
     ]
    }
   ],
   "source": [
    "print(feather.sort_values(by=['R_avg_HEAD_landed'], ascending=False)\n",
    "      [['R_fighter','R_avg_HEAD_landed']].drop_duplicates(subset=['R_fighter'],\n",
    "                                                          keep='first', inplace=False).head())\n",
    "print(feather.sort_values(by=['B_avg_HEAD_landed'], ascending=False)\n",
    "      [['B_fighter','B_avg_HEAD_landed']].drop_duplicates(subset=['B_fighter'],\n",
    "                                                          keep='first', inplace=False).head())"
   ]
  },
  {
   "cell_type": "code",
   "execution_count": 14,
   "id": "0a2eb909",
   "metadata": {},
   "outputs": [
    {
     "name": "stdout",
     "output_type": "stream",
     "text": [
      "           R_fighter  R_avg_HEAD_landed\n",
      "209       Karol Rosa          108.00000\n",
      "321    Jessamyn Duke           80.00000\n",
      "258     Leslie Smith           73.40625\n",
      "235     Irene Aldana           70.62500\n",
      "314  Jessica Andrade           69.00000\n",
      "           B_fighter  B_avg_HEAD_landed\n",
      "228    Nicco Montano              138.0\n",
      "324  Jessica Andrade               91.0\n",
      "263     Irene Aldana               84.0\n",
      "300    Sarah Kaufman               79.5\n",
      "260   Lucie Pudilova               77.0\n"
     ]
    }
   ],
   "source": [
    "print(bantam.sort_values(by=['R_avg_HEAD_landed'], ascending=False)\n",
    "      [['R_fighter','R_avg_HEAD_landed']].drop_duplicates(subset=['R_fighter'],\n",
    "                                                          keep='first', inplace=False).head())\n",
    "print(bantam.sort_values(by=['B_avg_HEAD_landed'], ascending=False)\n",
    "      [['B_fighter','B_avg_HEAD_landed']].drop_duplicates(subset=['B_fighter'],\n",
    "                                                          keep='first', inplace=False).head())"
   ]
  },
  {
   "cell_type": "code",
   "execution_count": 15,
   "id": "fcdbc67b",
   "metadata": {},
   "outputs": [
    {
     "name": "stdout",
     "output_type": "stream",
     "text": [
      "                R_fighter  R_avg_HEAD_landed\n",
      "368          Molly McCann           70.87500\n",
      "431     Roxanne Modafferi           67.00000\n",
      "454    Valerie Letourneau           61.50000\n",
      "369         Diana Belbita           58.00000\n",
      "421  Valentina Shevchenko           55.71875\n",
      "              B_fighter  B_avg_HEAD_landed\n",
      "347       Lara Procopio            122.000\n",
      "367      Luana Carolina             75.000\n",
      "414      Lucie Pudilova             72.875\n",
      "442  Jessica-Rose Clark             61.000\n",
      "425   Roxanne Modafferi             58.500\n"
     ]
    }
   ],
   "source": [
    "print(fly.sort_values(by=['R_avg_HEAD_landed'], ascending=False)\n",
    "      [['R_fighter','R_avg_HEAD_landed']].drop_duplicates(subset=['R_fighter'],\n",
    "                                                          keep='first', inplace=False).head())\n",
    "print(fly.sort_values(by=['B_avg_HEAD_landed'], ascending=False)\n",
    "      [['B_fighter','B_avg_HEAD_landed']].drop_duplicates(subset=['B_fighter'],\n",
    "                                                          keep='first', inplace=False).head())"
   ]
  },
  {
   "cell_type": "code",
   "execution_count": 16,
   "id": "d39a7f73",
   "metadata": {},
   "outputs": [
    {
     "name": "stdout",
     "output_type": "stream",
     "text": [
      "              R_fighter  R_avg_HEAD_landed\n",
      "136  Joanna Jedrzejczyk          94.875000\n",
      "50          Yan Xiaonan          88.000000\n",
      "89      Jessica Andrade          69.197266\n",
      "1           Angela Hill          67.764404\n",
      "134     Claudia Gadelha          60.625000\n",
      "                 B_fighter  B_avg_HEAD_landed\n",
      "83             Syuri Kondo         100.000000\n",
      "17            Inoue Mizuki          86.000000\n",
      "173     Valerie Letourneau          85.000000\n",
      "80             Yan Xiaonan          80.000000\n",
      "71   Karolina Kowalkiewicz          71.109375\n"
     ]
    }
   ],
   "source": [
    "print(straw.sort_values(by=['R_avg_HEAD_landed'], ascending=False)\n",
    "      [['R_fighter','R_avg_HEAD_landed']].drop_duplicates(subset=['R_fighter'],\n",
    "                                                          keep='first', inplace=False).head())\n",
    "print(straw.sort_values(by=['B_avg_HEAD_landed'], ascending=False)\n",
    "      [['B_fighter','B_avg_HEAD_landed']].drop_duplicates(subset=['B_fighter'],\n",
    "                                                          keep='first', inplace=False).head())"
   ]
  },
  {
   "cell_type": "code",
   "execution_count": 17,
   "id": "b2903dda",
   "metadata": {},
   "outputs": [
    {
     "name": "stdout",
     "output_type": "stream",
     "text": [
      "              R_fighter  R_avg_HEAD_landed\n",
      "209          Karol Rosa         108.000000\n",
      "136  Joanna Jedrzejczyk          94.875000\n",
      "50          Yan Xiaonan          88.000000\n",
      "321       Jessamyn Duke          80.000000\n",
      "258        Leslie Smith          73.406250\n",
      "368        Molly McCann          70.875000\n",
      "235        Irene Aldana          70.625000\n",
      "89      Jessica Andrade          69.197266\n",
      "1           Angela Hill          67.764404\n",
      "431   Roxanne Modafferi          67.000000\n",
      "              B_fighter  B_avg_HEAD_landed\n",
      "228       Nicco Montano              138.0\n",
      "347       Lara Procopio              122.0\n",
      "83          Syuri Kondo              100.0\n",
      "324     Jessica Andrade               91.0\n",
      "17         Inoue Mizuki               86.0\n",
      "173  Valerie Letourneau               85.0\n",
      "263        Irene Aldana               84.0\n",
      "80          Yan Xiaonan               80.0\n",
      "300       Sarah Kaufman               79.5\n",
      "260      Lucie Pudilova               77.0\n"
     ]
    }
   ],
   "source": [
    "# Here are some top 10 fighters from the striking portion of the data.\n",
    "print(fight_stats.sort_values(by=['R_avg_HEAD_landed'], ascending=False)[['R_fighter','R_avg_HEAD_landed']].drop_duplicates(subset=['R_fighter'], keep='first', inplace=False).head(10))\n",
    "print(fight_stats.sort_values(by=['B_avg_HEAD_landed'], ascending=False)[['B_fighter','B_avg_HEAD_landed']].drop_duplicates(subset=['B_fighter'], keep='first', inplace=False).head(10))"
   ]
  },
  {
   "cell_type": "markdown",
   "id": "9f78575d",
   "metadata": {},
   "source": [
    "Except for the featherweight, the rest of the weightclasses seem to be contradicting the overall results (red is the stronger corner). The blue corner seems to have a higher number of strikes in general when compare to the red corner. Does this mean that there are other components of a fight that are crucial in determining the fight results? But what about the featherweight? Is it just an outlier or does weight matter?\n",
    "\n",
    "Let's look at another component: grappling. "
   ]
  },
  {
   "cell_type": "markdown",
   "id": "af4c0ab3",
   "metadata": {},
   "source": [
    "## GRAPPLING PORTION"
   ]
  },
  {
   "cell_type": "code",
   "execution_count": 18,
   "id": "6b30c1f8",
   "metadata": {},
   "outputs": [
    {
     "name": "stdout",
     "output_type": "stream",
     "text": [
      "             R_fighter  R_avg_TD_landed\n",
      "462  Cristiane Justino         0.625000\n",
      "456       Amanda Nunes         4.259033\n",
      "457    Felicia Spencer         0.500000\n",
      "463        Cat Zingano         3.500000\n",
      "470         Holly Holm         0.187500\n",
      "           B_fighter  B_avg_TD_landed\n",
      "455   Megan Anderson         0.250000\n",
      "456  Felicia Spencer         0.750000\n",
      "469    Tonya Evinger              NaN\n",
      "462     Amanda Nunes         2.072266\n",
      "457      Zarah Fairn         0.000000\n"
     ]
    }
   ],
   "source": [
    "print(feather.sort_values(by=['B_avg_TD_landed'], ascending=False)\n",
    "      [['R_fighter','R_avg_TD_landed']].drop_duplicates(subset=['R_fighter'],\n",
    "                                                        keep='first', inplace=False).head())\n",
    "print(feather.sort_values(by=['R_avg_TD_landed'], ascending=False)\n",
    "      [['B_fighter','B_avg_TD_landed']].drop_duplicates(subset=['B_fighter'],\n",
    "                                                        keep='first', inplace=False).head())"
   ]
  },
  {
   "cell_type": "code",
   "execution_count": 19,
   "id": "e7643b9c",
   "metadata": {},
   "outputs": [
    {
     "name": "stdout",
     "output_type": "stream",
     "text": [
      "              R_fighter  R_avg_TD_landed\n",
      "262  Ashlee Evans-Smith         1.500000\n",
      "286        Amanda Nunes         0.312500\n",
      "238       Marion Reneau         0.046875\n",
      "228       Julianna Pena         1.562500\n",
      "308         Miesha Tate         1.250000\n",
      "         B_fighter  B_avg_TD_landed\n",
      "326    Sara McMann            2.000\n",
      "302  Lauren Murphy            0.000\n",
      "251   Irene Aldana            0.500\n",
      "309  Marion Reneau              NaN\n",
      "267  Julianna Pena            2.125\n"
     ]
    }
   ],
   "source": [
    "print(bantam.sort_values(by=['B_avg_TD_landed'], ascending=False)\n",
    "      [['R_fighter','R_avg_TD_landed']].drop_duplicates(subset=['R_fighter'],\n",
    "                                                        keep='first', inplace=False).head())\n",
    "print(bantam.sort_values(by=['R_avg_TD_landed'], ascending=False)\n",
    "      [['B_fighter','B_avg_TD_landed']].drop_duplicates(subset=['B_fighter'],\n",
    "                                                        keep='first', inplace=False).head())"
   ]
  },
  {
   "cell_type": "code",
   "execution_count": 20,
   "id": "09beef03",
   "metadata": {},
   "outputs": [
    {
     "name": "stdout",
     "output_type": "stream",
     "text": [
      "                R_fighter  R_avg_TD_landed\n",
      "444          Alexis Davis         0.203125\n",
      "395  Valentina Shevchenko         2.648438\n",
      "416    Ashlee Evans-Smith         0.687500\n",
      "351     Gillian Robertson         2.476562\n",
      "353     Katlyn Chookagian         0.750000\n",
      "               B_fighter  B_avg_TD_landed\n",
      "429        Jennifer Maia              NaN\n",
      "414       Lucie Pudilova         0.000000\n",
      "405          Jessica Eye         0.640625\n",
      "368         Taila Santos         1.000000\n",
      "379  Mara Romero Borella         1.250000\n"
     ]
    }
   ],
   "source": [
    "print(fly.sort_values(by=['B_avg_TD_landed'], ascending=False)\n",
    "      [['R_fighter','R_avg_TD_landed']].drop_duplicates(subset=['R_fighter'],\n",
    "                                                        keep='first', inplace=False).head())\n",
    "print(fly.sort_values(by=['R_avg_TD_landed'], ascending=False)\n",
    "      [['B_fighter','B_avg_TD_landed']].drop_duplicates(subset=['B_fighter'],\n",
    "                                                        keep='first', inplace=False).head())"
   ]
  },
  {
   "cell_type": "code",
   "execution_count": 21,
   "id": "e99ee84a",
   "metadata": {},
   "outputs": [
    {
     "name": "stdout",
     "output_type": "stream",
     "text": [
      "              R_fighter  R_avg_TD_landed\n",
      "94     Cynthia Calvillo           1.5000\n",
      "145  Joanna Jedrzejczyk           0.0000\n",
      "172       Alex Chambers           1.0000\n",
      "82         Alexa Grasso           0.2500\n",
      "81      Claudia Gadelha           1.5625\n",
      "                 B_fighter  B_avg_TD_landed\n",
      "71   Karolina Kowalkiewicz          0.25000\n",
      "165        Jessica Aguilar              NaN\n",
      "48           Nina Ansaroff          0.09375\n",
      "179     Joanna Jedrzejczyk          0.00000\n",
      "134          Cortney Casey          0.50000\n"
     ]
    }
   ],
   "source": [
    "print(straw.sort_values(by=['B_avg_TD_landed'], ascending=False)\n",
    "      [['R_fighter','R_avg_TD_landed']].drop_duplicates(subset=['R_fighter'],\n",
    "                                                        keep='first', inplace=False).head())\n",
    "print(straw.sort_values(by=['R_avg_TD_landed'], ascending=False)\n",
    "      [['B_fighter','B_avg_TD_landed']].drop_duplicates(subset=['B_fighter'],\n",
    "                                                        keep='first', inplace=False).head())"
   ]
  },
  {
   "cell_type": "code",
   "execution_count": 22,
   "id": "da1d1d63",
   "metadata": {},
   "outputs": [
    {
     "name": "stdout",
     "output_type": "stream",
     "text": [
      "                R_fighter  R_avg_TD_landed\n",
      "172         Alex Chambers         1.000000\n",
      "145    Joanna Jedrzejczyk         0.000000\n",
      "94       Cynthia Calvillo         1.500000\n",
      "262    Ashlee Evans-Smith         1.500000\n",
      "286          Amanda Nunes         0.312500\n",
      "81        Claudia Gadelha         1.562500\n",
      "82           Alexa Grasso         0.250000\n",
      "444          Alexis Davis         0.203125\n",
      "51         Rose Namajunas         0.953125\n",
      "395  Valentina Shevchenko         2.648438\n",
      "                 B_fighter  B_avg_TD_landed\n",
      "71   Karolina Kowalkiewicz          0.25000\n",
      "165        Jessica Aguilar              NaN\n",
      "48           Nina Ansaroff          0.09375\n",
      "455         Megan Anderson          0.25000\n",
      "178     Joanna Jedrzejczyk          0.00000\n",
      "134          Cortney Casey          0.50000\n",
      "151           Tecia Torres          0.75000\n",
      "456        Felicia Spencer          0.75000\n",
      "123           Randa Markos          1.06250\n",
      "113           Maryna Moroz          0.25000\n"
     ]
    }
   ],
   "source": [
    "# Here are some top 10 fighters in the grappling portion of the data.\n",
    "print(fight_stats.sort_values(by=['B_avg_TD_landed'], ascending=False)\n",
    "      [['R_fighter','R_avg_TD_landed']].drop_duplicates(subset=['R_fighter'],\n",
    "                                                        keep='first', inplace=False).head(10))\n",
    "print(fight_stats.sort_values(by=['R_avg_TD_landed'], ascending=False)\n",
    "      [['B_fighter','B_avg_TD_landed']].drop_duplicates(subset=['B_fighter'],\n",
    "                                                        keep='first', inplace=False).head(10))"
   ]
  },
  {
   "cell_type": "markdown",
   "id": "87334b1a",
   "metadata": {},
   "source": [
    "The grappling component shows a higher number in red fighters than in blue fighters which agrees with the overall results. Does this mean the grappling component plays a huge role in determining if a fighter will win in a fight? Let's look at the final component: defense. "
   ]
  },
  {
   "cell_type": "markdown",
   "id": "d8b8bb1e",
   "metadata": {},
   "source": [
    "## DEFENSE PORTION"
   ]
  },
  {
   "cell_type": "code",
   "execution_count": 23,
   "id": "1b3e441f",
   "metadata": {},
   "outputs": [
    {
     "name": "stdout",
     "output_type": "stream",
     "text": [
      "             R_fighter  R_avg_opp_HEAD_landed\n",
      "469  Cristiane Justino               2.000000\n",
      "458     Megan Anderson               7.625000\n",
      "456       Amanda Nunes              14.588623\n",
      "463        Cat Zingano              15.250000\n",
      "457    Felicia Spencer              30.500000\n",
      "                B_fighter  B_avg_opp_HEAD_landed\n",
      "460       Felicia Spencer               2.000000\n",
      "455        Megan Anderson               4.312500\n",
      "470  Germaine de Randamie               4.500000\n",
      "457           Zarah Fairn              10.000000\n",
      "468            Holly Holm              17.171875\n"
     ]
    }
   ],
   "source": [
    "print(feather.sort_values(by=['R_avg_opp_HEAD_landed'], ascending=True)\n",
    "      [['R_fighter','R_avg_opp_HEAD_landed']].drop_duplicates(subset=['R_fighter'],\n",
    "                                                              keep='first', inplace=False).head())\n",
    "print(feather.sort_values(by=['B_avg_opp_HEAD_landed'], ascending=True)\n",
    "      [['B_fighter','B_avg_opp_HEAD_landed']].drop_duplicates(subset=['B_fighter'],\n",
    "                                                              keep='first', inplace=False).head())"
   ]
  },
  {
   "cell_type": "code",
   "execution_count": 24,
   "id": "c947d976",
   "metadata": {},
   "outputs": [
    {
     "name": "stdout",
     "output_type": "stream",
     "text": [
      "         R_fighter  R_avg_opp_HEAD_landed\n",
      "333   Amanda Nunes                    1.0\n",
      "301  Julianna Pena                    2.0\n",
      "317    Sara McMann                    2.5\n",
      "295   Ronda Rousey                    3.0\n",
      "332  Liz Carmouche                    4.5\n",
      "                B_fighter  B_avg_opp_HEAD_landed\n",
      "312          Amanda Nunes                 0.5000\n",
      "326           Sara McMann                 1.0000\n",
      "292         Julianna Pena                 1.0000\n",
      "288    Ashlee Evans-Smith                 3.0000\n",
      "217  Germaine de Randamie                 3.8125\n"
     ]
    }
   ],
   "source": [
    "print(bantam.sort_values(by=['R_avg_opp_HEAD_landed'], ascending=True)\n",
    "      [['R_fighter','R_avg_opp_HEAD_landed']].drop_duplicates(subset=['R_fighter'],\n",
    "                                                              keep='first', inplace=False).head())\n",
    "print(bantam.sort_values(by=['B_avg_opp_HEAD_landed'], ascending=True)\n",
    "      [['B_fighter','B_avg_opp_HEAD_landed']].drop_duplicates(subset=['B_fighter'],\n",
    "                                                              keep='first', inplace=False).head())"
   ]
  },
  {
   "cell_type": "code",
   "execution_count": 25,
   "id": "d5c8810e",
   "metadata": {},
   "outputs": [
    {
     "name": "stdout",
     "output_type": "stream",
     "text": [
      "                R_fighter  R_avg_opp_HEAD_landed\n",
      "355  Valentina Shevchenko               1.474609\n",
      "443        Kalindra Faria               2.000000\n",
      "365        Mariya Agapova               4.000000\n",
      "430    Montana De La Rosa               6.000000\n",
      "435     Gillian Robertson               7.000000\n",
      "               B_fighter  B_avg_opp_HEAD_landed\n",
      "440  Mara Romero Borella                   0.00\n",
      "430     Rachael Ostovich                   2.00\n",
      "409      Poliana Botelho                   4.50\n",
      "403   Montana De La Rosa                   7.75\n",
      "426    Gillian Robertson                   8.50\n"
     ]
    }
   ],
   "source": [
    "print(fly.sort_values(by=['R_avg_opp_HEAD_landed'], ascending=True)\n",
    "      [['R_fighter','R_avg_opp_HEAD_landed']].drop_duplicates(subset=['R_fighter'],\n",
    "                                                              keep='first', inplace=False).head())\n",
    "print(fly.sort_values(by=['B_avg_opp_HEAD_landed'], ascending=True)\n",
    "      [['B_fighter','B_avg_opp_HEAD_landed']].drop_duplicates(subset=['B_fighter'],\n",
    "                                                              keep='first', inplace=False).head())"
   ]
  },
  {
   "cell_type": "code",
   "execution_count": 26,
   "id": "204f6aee",
   "metadata": {},
   "outputs": [
    {
     "name": "stdout",
     "output_type": "stream",
     "text": [
      "           R_fighter  R_avg_opp_HEAD_landed\n",
      "74     Polyana Viana                    1.0\n",
      "100   Tatiana Suarez                    1.0\n",
      "175    Felice Herrig                    3.0\n",
      "164     Maryna Moroz                    3.0\n",
      "83   Poliana Botelho                    4.0\n",
      "             B_fighter  B_avg_opp_HEAD_landed\n",
      "120  Michelle Waterson                    2.0\n",
      "79      Emily Whitmire                    2.0\n",
      "65     Poliana Botelho                    2.0\n",
      "108    Aleksandra Albu                    4.0\n",
      "37        Amanda Ribas                    4.0\n"
     ]
    }
   ],
   "source": [
    "print(straw.sort_values(by=['R_avg_opp_HEAD_landed'], ascending=True)\n",
    "      [['R_fighter','R_avg_opp_HEAD_landed']].drop_duplicates(subset=['R_fighter'],\n",
    "                                                              keep='first', inplace=False).head())\n",
    "print(straw.sort_values(by=['B_avg_opp_HEAD_landed'], ascending=True)\n",
    "      [['B_fighter','B_avg_opp_HEAD_landed']].drop_duplicates(subset=['B_fighter'],\n",
    "                                                              keep='first', inplace=False).head())"
   ]
  },
  {
   "cell_type": "code",
   "execution_count": 27,
   "id": "ca73ab57",
   "metadata": {},
   "outputs": [
    {
     "name": "stdout",
     "output_type": "stream",
     "text": [
      "                R_fighter  R_avg_opp_HEAD_landed\n",
      "333          Amanda Nunes               1.000000\n",
      "74          Polyana Viana               1.000000\n",
      "100        Tatiana Suarez               1.000000\n",
      "355  Valentina Shevchenko               1.474609\n",
      "469     Cristiane Justino               2.000000\n",
      "443        Kalindra Faria               2.000000\n",
      "301         Julianna Pena               2.000000\n",
      "317           Sara McMann               2.500000\n",
      "295          Ronda Rousey               3.000000\n",
      "175         Felice Herrig               3.000000\n",
      "               B_fighter  B_avg_opp_HEAD_landed\n",
      "440  Mara Romero Borella                    0.0\n",
      "312         Amanda Nunes                    0.5\n",
      "326          Sara McMann                    1.0\n",
      "292        Julianna Pena                    1.0\n",
      "65       Poliana Botelho                    2.0\n",
      "79        Emily Whitmire                    2.0\n",
      "460      Felicia Spencer                    2.0\n",
      "120    Michelle Waterson                    2.0\n",
      "430     Rachael Ostovich                    2.0\n",
      "288   Ashlee Evans-Smith                    3.0\n"
     ]
    }
   ],
   "source": [
    "# Here are the top 10 fighters in the defensive perspectives.\n",
    "print(fight_stats.sort_values(by=['R_avg_opp_HEAD_landed'], ascending=True)\n",
    "      [['R_fighter','R_avg_opp_HEAD_landed']].drop_duplicates(subset=['R_fighter'],\n",
    "                                                              keep='first', inplace=False).head(10))\n",
    "print(fight_stats.sort_values(by=['B_avg_opp_HEAD_landed'], ascending=True)\n",
    "      [['B_fighter','B_avg_opp_HEAD_landed']].drop_duplicates(subset=['B_fighter'],\n",
    "                                                              keep='first', inplace=False).head(10))"
   ]
  },
  {
   "cell_type": "markdown",
   "id": "05c59dd9",
   "metadata": {},
   "source": [
    "The numbers show the count of attack attempts that landed on the fighters. The lower the number indicates lesser strikes managed to land of them, which means a better defense. Both sides seem to have similar nummbers when it comes to defense. "
   ]
  },
  {
   "cell_type": "markdown",
   "id": "86507185",
   "metadata": {},
   "source": [
    "Once again, let me remind you that there are other variables that plays a role in each of the fighting components. We will further the data analysis process by including all those variables to get a more accurate depiction.\n",
    "\n",
    "For example, when it comes to striking, we are not just looking at the number of strikes, we will also be looking at the significant of those counts, the accuracy of the strikes, the average of strikes to not just the head but also the body and the list goes on. Using all these variables, we can come up with a list of fighters that have different strengths. 'm unfamiliar of the different professional terminology of these variables, I will utilizing the code from another UFC data analysis example (as mentioned above). \n",
    "\n",
    "My initial planning for data analysis is to split the fighters into different weightclasses and compare then within the groups but after the data exploration part, I noticed our dataset is still fairly small. I have decided to carry on the next part without splitting the fighters into different weightclasses but into different corners. "
   ]
  },
  {
   "cell_type": "markdown",
   "id": "ae3a0540",
   "metadata": {},
   "source": [
    "## Red corner"
   ]
  },
  {
   "cell_type": "code",
   "execution_count": 28,
   "id": "8bba3d39",
   "metadata": {},
   "outputs": [],
   "source": [
    "# Striking\n",
    "d1 = fight_stats.sort_values(by=['R_avg_TOTAL_STR_landed'], ascending=False)[['R_fighter','R_avg_TOTAL_STR_landed']].drop_duplicates(subset=['R_fighter'], keep='first', inplace=False).head(51).sort_values(by=['R_avg_TOTAL_STR_landed'], ascending=True).reset_index(drop=True);\n",
    "d2 = fight_stats.sort_values(by=['R_avg_SIG_STR_landed'], ascending=False)[['R_fighter','R_avg_SIG_STR_landed']].drop_duplicates(subset=['R_fighter'], keep='first', inplace=False).head(51).sort_values(by=['R_avg_SIG_STR_landed'], ascending=True).reset_index(drop=True);\n",
    "d3 = fight_stats.sort_values(by=['R_avg_KD'], ascending=False)[['R_fighter','R_avg_KD']].drop_duplicates(subset=['R_fighter'], keep='first', inplace=False).head(51).sort_values(by=['R_avg_KD'], ascending=True).reset_index(drop=True);\n",
    "d4 = fight_stats.sort_values(by=['R_avg_BODY_landed'], ascending=False)[['R_fighter','R_avg_BODY_landed']].drop_duplicates(subset=['R_fighter'], keep='first', inplace=False).head(51).sort_values(by=['R_avg_BODY_landed'], ascending=True).reset_index(drop=True);\n",
    "d5 = fight_stats.sort_values(by=['R_avg_HEAD_landed'], ascending=False)[['R_fighter','R_avg_HEAD_landed']].drop_duplicates(subset=['R_fighter'], keep='first', inplace=False).head(51).sort_values(by=['R_avg_HEAD_landed'], ascending=True).reset_index(drop=True);\n",
    "d6 = fight_stats.sort_values(by=['R_avg_DISTANCE_landed'], ascending=False)[['R_fighter','R_avg_DISTANCE_landed']].drop_duplicates(subset=['R_fighter'], keep='first', inplace=False).head(51).sort_values(by=['R_avg_DISTANCE_landed'], ascending=True).reset_index(drop=True);\n",
    "d7 = fight_stats.sort_values(by=['R_avg_LEG_landed'], ascending=False)[['R_fighter','R_avg_LEG_landed']].drop_duplicates(subset=['R_fighter'], keep='first', inplace=False).head(10).head(51).sort_values(by=['R_avg_LEG_landed'], ascending=True).reset_index(drop=True);\n",
    "\n",
    "# Grappling\n",
    "d8 = fight_stats.sort_values(by=['R_avg_SUB_ATT'], ascending=False)[['R_fighter','R_avg_SUB_ATT']].drop_duplicates(subset=['R_fighter'], keep='first', inplace=False).head(51).sort_values(by=['R_avg_SUB_ATT'], ascending=True).reset_index(drop=True);\n",
    "d9 = fight_stats.sort_values(by=['B_avg_TD_landed'], ascending=False)[['R_fighter','R_avg_TD_landed']].drop_duplicates(subset=['R_fighter'], keep='first', inplace=False).head(51).sort_values(by=['R_avg_TD_landed'], ascending=True).reset_index(drop=True);\n",
    "d10 = fight_stats.sort_values(by=['R_avg_TD_pct'], ascending=False)[['R_fighter','R_avg_TD_pct']].drop_duplicates(subset=['R_fighter'], keep='first', inplace=False).head(51).sort_values(by=['R_avg_TD_pct'], ascending=True).reset_index(drop=True);\n",
    "d11 = fight_stats.sort_values(by=['B_avg_REV'], ascending=False)[['R_fighter','R_avg_REV']].drop_duplicates(subset=['R_fighter'], keep='first', inplace=False).head(51).sort_values(by=['R_avg_REV'], ascending=True).reset_index(drop=True);\n",
    "\n",
    "# Defensive\n",
    "d12 = fight_stats.sort_values(by=['R_avg_opp_HEAD_landed'], ascending=True)[['R_fighter','R_avg_opp_HEAD_landed']].drop_duplicates(subset=['R_fighter'], keep='first', inplace=False).head(51).sort_values(by=['R_avg_opp_HEAD_landed'], ascending=False).reset_index(drop=True);\n",
    "d13 = fight_stats.sort_values(by=['R_avg_opp_DISTANCE_landed'], ascending=True)[['R_fighter','R_avg_opp_DISTANCE_landed']].drop_duplicates(subset=['R_fighter'], keep='first', inplace=False).head(51).sort_values(by=['R_avg_opp_DISTANCE_landed'], ascending=False).reset_index(drop=True);\n",
    "d14 = fight_stats.sort_values(by=['R_avg_opp_TOTAL_STR_landed'], ascending=True)[['R_fighter','R_avg_opp_TOTAL_STR_landed']].drop_duplicates(subset=['R_fighter'], keep='first', inplace=False).head(51).sort_values(by=['R_avg_opp_TOTAL_STR_landed'], ascending=False).reset_index(drop=True);\n",
    "d15 = fight_stats.sort_values(by=['R_avg_opp_BODY_landed'], ascending=True)[['R_fighter','R_avg_opp_BODY_landed']].drop_duplicates(subset=['R_fighter'], keep='first', inplace=False).head(51).sort_values(by=['R_avg_opp_BODY_landed'], ascending=False).reset_index(drop=True);\n",
    "d16 = fight_stats.sort_values(by=['R_avg_opp_SIG_STR_pct'], ascending=True)[['R_fighter','R_avg_opp_SIG_STR_pct']].drop_duplicates(subset=['R_fighter'], keep='first', inplace=False).head(51).sort_values(by=['R_avg_opp_SIG_STR_pct'], ascending=False).reset_index(drop=True);"
   ]
  },
  {
   "cell_type": "code",
   "execution_count": 29,
   "id": "cddcbafa",
   "metadata": {},
   "outputs": [
    {
     "data": {
      "text/plain": [
       "['Joanna Jedrzejczyk',\n",
       " 'Karol Rosa',\n",
       " 'Jessica Andrade',\n",
       " 'Angela Hill',\n",
       " 'Jessamyn Duke']"
      ]
     },
     "execution_count": 29,
     "metadata": {},
     "output_type": "execute_result"
    }
   ],
   "source": [
    "best_striker = {}\n",
    "data_sets = [d1, d2, d3, d4, d5, d6, d7]\n",
    "for i,dataset in enumerate(data_sets):\n",
    "    for row_index,row in dataset.iterrows():\n",
    "        name = row['R_fighter']\n",
    "        if name in best_striker: best_striker[name] = best_striker.get(name, 0) + row_index\n",
    "        else: best_striker[name] = row_index\n",
    "  \n",
    "sorted(best_striker.values())     \n",
    "sorted(best_striker, key=best_striker.get, reverse=True)[:5]"
   ]
  },
  {
   "cell_type": "code",
   "execution_count": 30,
   "id": "ec3c4124",
   "metadata": {},
   "outputs": [
    {
     "data": {
      "text/plain": [
       "['Valentina Shevchenko',\n",
       " 'Felice Herrig',\n",
       " 'Ronda Rousey',\n",
       " 'Cynthia Calvillo',\n",
       " 'Julianna Pena']"
      ]
     },
     "execution_count": 30,
     "metadata": {},
     "output_type": "execute_result"
    }
   ],
   "source": [
    "best_grappler = {}\n",
    "data_sets = [d8, d9, d10, d11]\n",
    "for i,dataset in enumerate(data_sets):\n",
    "    for row_index,row in dataset.iterrows():\n",
    "        name = row['R_fighter']\n",
    "        if name in best_grappler: best_grappler[name] = best_grappler.get(name, 0) + row_index\n",
    "        else: best_grappler[name] = row_index\n",
    "  \n",
    "sorted(best_grappler.values())     \n",
    "sorted(best_grappler, key=best_grappler.get, reverse=True)[:5]"
   ]
  },
  {
   "cell_type": "code",
   "execution_count": 31,
   "id": "17fccc20",
   "metadata": {},
   "outputs": [
    {
     "data": {
      "text/plain": [
       "['Tatiana Suarez',\n",
       " 'Amanda Nunes',\n",
       " 'Ronda Rousey',\n",
       " 'Sara McMann',\n",
       " 'Cristiane Justino']"
      ]
     },
     "execution_count": 31,
     "metadata": {},
     "output_type": "execute_result"
    }
   ],
   "source": [
    "best_defense = {}\n",
    "data_sets = [d12, d13, d14, d15, d16]\n",
    "for i,dataset in enumerate(data_sets):\n",
    "    for row_index,row in dataset.iterrows():\n",
    "        name = row['R_fighter']\n",
    "        if name in best_defense: best_defense[name] = best_defense.get(name, 0) + row_index\n",
    "        else: best_defense[name] = row_index\n",
    "  \n",
    "sorted(best_defense.values())     \n",
    "sorted(best_defense, key=best_defense.get, reverse=True)[:5]"
   ]
  },
  {
   "cell_type": "markdown",
   "id": "7f7e2681",
   "metadata": {},
   "source": [
    "## Blue corner"
   ]
  },
  {
   "cell_type": "code",
   "execution_count": 32,
   "id": "58dcc950",
   "metadata": {},
   "outputs": [],
   "source": [
    "# Striking\n",
    "d17 = fight_stats.sort_values(by=['B_avg_TOTAL_STR_landed'], ascending=False)[['B_fighter','B_avg_TOTAL_STR_landed']].drop_duplicates(subset=['B_fighter'], keep='first', inplace=False).head(51).sort_values(by=['B_avg_TOTAL_STR_landed'], ascending=True).reset_index(drop=True);\n",
    "d18 = fight_stats.sort_values(by=['B_avg_SIG_STR_landed'], ascending=False)[['B_fighter','B_avg_SIG_STR_landed']].drop_duplicates(subset=['B_fighter'], keep='first', inplace=False).head(51).sort_values(by=['B_avg_SIG_STR_landed'], ascending=True).reset_index(drop=True);\n",
    "d19 = fight_stats.sort_values(by=['B_avg_KD'], ascending=False)[['B_fighter','B_avg_KD']].drop_duplicates(subset=['B_fighter'], keep='first', inplace=False).head(51).sort_values(by=['B_avg_KD'], ascending=True).reset_index(drop=True);\n",
    "d20 = fight_stats.sort_values(by=['B_avg_BODY_landed'], ascending=False)[['B_fighter','B_avg_BODY_landed']].drop_duplicates(subset=['B_fighter'], keep='first', inplace=False).head(51).sort_values(by=['B_avg_BODY_landed'], ascending=True).reset_index(drop=True);\n",
    "d21 = fight_stats.sort_values(by=['B_avg_HEAD_landed'], ascending=False)[['B_fighter','B_avg_HEAD_landed']].drop_duplicates(subset=['B_fighter'], keep='first', inplace=False).head(51).sort_values(by=['B_avg_HEAD_landed'], ascending=True).reset_index(drop=True);\n",
    "d22 = fight_stats.sort_values(by=['B_avg_DISTANCE_landed'], ascending=False)[['B_fighter','B_avg_DISTANCE_landed']].drop_duplicates(subset=['B_fighter'], keep='first', inplace=False).head(51).sort_values(by=['B_avg_DISTANCE_landed'], ascending=True).reset_index(drop=True);\n",
    "d23 = fight_stats.sort_values(by=['B_avg_LEG_landed'], ascending=False)[['B_fighter','B_avg_LEG_landed']].drop_duplicates(subset=['B_fighter'], keep='first', inplace=False).head(10).head(51).sort_values(by=['B_avg_LEG_landed'], ascending=True).reset_index(drop=True);\n",
    "\n",
    "# Grappling\n",
    "d24 = fight_stats.sort_values(by=['B_avg_SUB_ATT'], ascending=False)[['B_fighter','B_avg_SUB_ATT']].drop_duplicates(subset=['B_fighter'], keep='first', inplace=False).head(51).sort_values(by=['B_avg_SUB_ATT'], ascending=True).reset_index(drop=True);\n",
    "d25 = fight_stats.sort_values(by=['B_avg_TD_landed'], ascending=False)[['B_fighter','B_avg_TD_landed']].drop_duplicates(subset=['B_fighter'], keep='first', inplace=False).head(51).sort_values(by=['B_avg_TD_landed'], ascending=True).reset_index(drop=True);\n",
    "d26 = fight_stats.sort_values(by=['B_avg_TD_pct'], ascending=False)[['B_fighter','B_avg_TD_pct']].drop_duplicates(subset=['B_fighter'], keep='first', inplace=False).head(51).sort_values(by=['B_avg_TD_pct'], ascending=True).reset_index(drop=True);\n",
    "d27 = fight_stats.sort_values(by=['B_avg_REV'], ascending=False)[['B_fighter','B_avg_REV']].drop_duplicates(subset=['B_fighter'], keep='first', inplace=False).head(51).sort_values(by=['B_avg_REV'], ascending=True).reset_index(drop=True);\n",
    "\n",
    "# Defensive\n",
    "d28 = fight_stats.sort_values(by=['B_avg_opp_HEAD_landed'], ascending=True)[['B_fighter','B_avg_opp_HEAD_landed']].drop_duplicates(subset=['B_fighter'], keep='first', inplace=False).head(51).sort_values(by=['B_avg_opp_HEAD_landed'], ascending=False).reset_index(drop=True);\n",
    "d29 = fight_stats.sort_values(by=['B_avg_opp_DISTANCE_landed'], ascending=True)[['B_fighter','B_avg_opp_DISTANCE_landed']].drop_duplicates(subset=['B_fighter'], keep='first', inplace=False).head(51).sort_values(by=['B_avg_opp_DISTANCE_landed'], ascending=False).reset_index(drop=True);\n",
    "d30 = fight_stats.sort_values(by=['B_avg_opp_TOTAL_STR_landed'], ascending=True)[['B_fighter','B_avg_opp_TOTAL_STR_landed']].drop_duplicates(subset=['B_fighter'], keep='first', inplace=False).head(51).sort_values(by=['B_avg_opp_TOTAL_STR_landed'], ascending=False).reset_index(drop=True);\n",
    "d31 = fight_stats.sort_values(by=['B_avg_opp_BODY_landed'], ascending=True)[['B_fighter','B_avg_opp_BODY_landed']].drop_duplicates(subset=['B_fighter'], keep='first', inplace=False).head(51).sort_values(by=['B_avg_opp_BODY_landed'], ascending=False).reset_index(drop=True);\n",
    "d32 = fight_stats.sort_values(by=['B_avg_opp_SIG_STR_pct'], ascending=True)[['B_fighter','B_avg_opp_SIG_STR_pct']].drop_duplicates(subset=['B_fighter'], keep='first', inplace=False).head(51).sort_values(by=['B_avg_opp_SIG_STR_pct'], ascending=False).reset_index(drop=True);"
   ]
  },
  {
   "cell_type": "code",
   "execution_count": 33,
   "id": "5cff61b2",
   "metadata": {},
   "outputs": [
    {
     "data": {
      "text/plain": [
       "['Angela Hill',\n",
       " 'Jessica Andrade',\n",
       " 'Luana Carolina',\n",
       " 'Joanna Jedrzejczyk',\n",
       " 'Sarah Kaufman']"
      ]
     },
     "execution_count": 33,
     "metadata": {},
     "output_type": "execute_result"
    }
   ],
   "source": [
    "best_striker = {}\n",
    "data_sets = [d17, d18, d19, d20, d21, d22, d23]\n",
    "for i,dataset in enumerate(data_sets):\n",
    "    for row_index,row in dataset.iterrows():\n",
    "        name = row['B_fighter']\n",
    "        if name in best_striker: best_striker[name] = best_striker.get(name, 0) + row_index\n",
    "        else: best_striker[name] = row_index\n",
    "  \n",
    "sorted(best_striker.values())     \n",
    "sorted(best_striker, key=best_striker.get, reverse=True)[:5]"
   ]
  },
  {
   "cell_type": "code",
   "execution_count": 34,
   "id": "71226cc9",
   "metadata": {},
   "outputs": [
    {
     "data": {
      "text/plain": [
       "['Virna Jandiroba',\n",
       " 'Cynthia Calvillo',\n",
       " 'Paige VanZant',\n",
       " 'Cat Zingano',\n",
       " 'Michelle Waterson']"
      ]
     },
     "execution_count": 34,
     "metadata": {},
     "output_type": "execute_result"
    }
   ],
   "source": [
    "best_grappler = {}\n",
    "data_sets = [d24, d25, d26, d27]\n",
    "for i,dataset in enumerate(data_sets):\n",
    "    for row_index,row in dataset.iterrows():\n",
    "        name = row['B_fighter']\n",
    "        if name in best_grappler: best_grappler[name] = best_grappler.get(name, 0) + row_index\n",
    "        else: best_grappler[name] = row_index\n",
    "  \n",
    "sorted(best_grappler.values())     \n",
    "sorted(best_grappler, key=best_grappler.get, reverse=True)[:5]"
   ]
  },
  {
   "cell_type": "code",
   "execution_count": 35,
   "id": "c5d1c682",
   "metadata": {},
   "outputs": [
    {
     "data": {
      "text/plain": [
       "['Mara Romero Borella',\n",
       " 'Rachael Ostovich',\n",
       " 'Amanda Nunes',\n",
       " 'Emily Whitmire',\n",
       " 'Amanda Ribas']"
      ]
     },
     "execution_count": 35,
     "metadata": {},
     "output_type": "execute_result"
    }
   ],
   "source": [
    "best_defense = {}\n",
    "data_sets = [d28, d29, d30, d31, d32]\n",
    "for i,dataset in enumerate(data_sets):\n",
    "    for row_index,row in dataset.iterrows():\n",
    "        name = row['B_fighter']\n",
    "        if name in best_defense: best_defense[name] = best_defense.get(name, 0) + row_index\n",
    "        else: best_defense[name] = row_index\n",
    "  \n",
    "sorted(best_defense.values())     \n",
    "sorted(best_defense, key=best_defense.get, reverse=True)[:5]"
   ]
  },
  {
   "cell_type": "code",
   "execution_count": null,
   "id": "3fcfe700",
   "metadata": {},
   "outputs": [],
   "source": []
  },
  {
   "cell_type": "code",
   "execution_count": null,
   "id": "4d0fdac3",
   "metadata": {},
   "outputs": [],
   "source": []
  }
 ],
 "metadata": {
  "kernelspec": {
   "display_name": "Python 3 (ipykernel)",
   "language": "python",
   "name": "python3"
  },
  "language_info": {
   "codemirror_mode": {
    "name": "ipython",
    "version": 3
   },
   "file_extension": ".py",
   "mimetype": "text/x-python",
   "name": "python",
   "nbconvert_exporter": "python",
   "pygments_lexer": "ipython3",
   "version": "3.10.9"
  }
 },
 "nbformat": 4,
 "nbformat_minor": 5
}
